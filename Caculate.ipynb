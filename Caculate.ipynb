{
 "cells": [
  {
   "cell_type": "code",
   "execution_count": 1,
   "metadata": {},
   "outputs": [],
   "source": [
    "import tkinter as tk\n",
    "from tkinter import ttk\n",
    "\n",
    "expression =\"\""
   ]
  },
  {
   "cell_type": "code",
   "execution_count": 5,
   "metadata": {},
   "outputs": [],
   "source": [
    "def presubmit():\n",
    "    global expression\n",
    "    expression=str(num1.get())+str(op.get())+str(num2.get())\n",
    "    output.set(str(eval((expression))))"
   ]
  },
  {
   "cell_type": "code",
   "execution_count": 8,
   "metadata": {},
   "outputs": [
    {
     "name": "stdout",
     "output_type": "stream",
     "text": [
      "\n"
     ]
    }
   ],
   "source": [
    "if __name__== \"__main__\":\n",
    "    window=tk.Tk()\n",
    "    window.title(\"CALCULATOR\")\n",
    "    window.geometry(\"400x400\")\n",
    "    l=tk.Label(window,text=\"Calculator\")\n",
    "    num1 = tk.StringVar();\n",
    "    num2 = tk.StringVar();\n",
    "\n",
    "    num1_label=tk.Label(window,text = \"Enter first number\", font = (\"calibre\",13,'bold'))\n",
    "    num1_entry = tk.Entry(window,textvariable =num1,font=('calibre',10,'normal'))\n",
    "\n",
    "    num2_label=tk.Label(window,text = \"Enter second number\", font=(\"calibre\",13,'bold'))\n",
    "    num2_entry = tk.Entry(window,textvariable =num2, font = (\"calibre\",10, 'normal'))\n",
    "    print(num2.get())\n",
    "\n",
    "    op = tk.StringVar()\n",
    "    op_label = tk.Label(window,text = 'Select Operator',font = ('Times New Roman',13,'bold')).grid(row=2,column=0)\n",
    "    opchoosen = ttk.Combobox(window,width=10,textvariable=op, font=8)\n",
    "    opchoosen['values'] = ('+', '-', '*' , '/')\n",
    "    opchoosen.grid(row=2,column=1)\n",
    "\n",
    "    num1_label.grid(row=0,column=0) \n",
    "    num1_entry.grid(row=0,column=1) \n",
    "\n",
    "    num2_label.grid(row=1,column=0)\n",
    "    num2_entry.grid(row=1,column=1)\n",
    "\n",
    "    submit= tk.Button(window, text=' Submit ', fg='black', bg='yellow', \n",
    "                       command=presubmit, height=1, width=7) \n",
    "    submit.grid(row=3, column=1)\n",
    "    \n",
    "    output = tk.StringVar()\n",
    "    out_label= tk.Label(window, text = \"OUTPUT\", font = (\"Times New Roman\", 13 , 'bold')).grid(row=5,column=0)\n",
    "    out_entry = tk.Entry(window,textvariable =output, font = (\"calibre\",10, 'normal')).grid(row=5,column=1)\n",
    "\n",
    "    window.mainloop() "
   ]
  }
 ],
 "metadata": {
  "kernelspec": {
   "display_name": "Python 3",
   "language": "python",
   "name": "python3"
  },
  "language_info": {
   "codemirror_mode": {
    "name": "ipython",
    "version": 3
   },
   "file_extension": ".py",
   "mimetype": "text/x-python",
   "name": "python",
   "nbconvert_exporter": "python",
   "pygments_lexer": "ipython3",
   "version": "3.8.3"
  }
 },
 "nbformat": 4,
 "nbformat_minor": 4
}
